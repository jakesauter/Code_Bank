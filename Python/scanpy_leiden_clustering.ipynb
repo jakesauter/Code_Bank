{
 "cells": [
  {
   "cell_type": "code",
   "execution_count": null,
   "metadata": {},
   "outputs": [],
   "source": [
    "import time\n",
    "import scipy\n",
    "import scanpy\n",
    "import pandas as pd\n",
    "\n",
    "seurat_expression_data = \\\n",
    "   pd.read_feather('seurat_expression_data.feather')\n",
    "\n",
    "seurat_ad = \\\n",
    "   scanpy.AnnData(X = seurat_expression_data)\n",
    "\n",
    "# start = time.time()\n",
    "\n",
    "# scanpy.pp.neighbors(\n",
    "#   seurat_ad, \n",
    "#   use_rep=None, \n",
    "#   n_pcs=0, \n",
    "#   method='umap', \n",
    "#   n_neighbors = 30)\n",
    "\n",
    "# end = time.time()\n",
    "# print(end-start)\n",
    "\n",
    "# datetime = time.strftime(\"%Y%m%d-%H%M%S\")\n",
    "\n",
    "\n",
    "# scipy.sparse.save_npz('leiden_distances_' + datetime + '.npz', \n",
    "#                       seurat_ad.obsp[\"distances\"])\n",
    "\n",
    "# scipy.sparse.save_npz('leiden_connectivities_' + datetime + '.npz', \n",
    "#                       seurat_ad.obsp[\"connectivities\"])\n",
    "\n",
    "connectivities = \\\n",
    "  scipy.sparse.load_npz('umap_knn_connectivities.npz')\n",
    "\n",
    "start2 = time.time()\n",
    "\n",
    "scanpy.tl.leiden(seurat_ad, \n",
    "                 adjacency = connectivities,\n",
    "                 directed = True, \n",
    "                 use_weights = True,\n",
    "                 n_iterations = 5)\n",
    "\n",
    "end2 = time.time()\n",
    "print(end2-start2)\n",
    "\n",
    "# pyarrow.feather.write_feather(seurat_ad.obs['leiden'].to_frame(), \n",
    "#                               'leiden_clustering_results_' + datetime + '.feather')\n",
    "\n",
    "pyarrow.feather.write_feather(seurat_ad.obs['leiden'].to_frame(), \n",
    "                              '5_iteration_leiden_clustering_results.feather')"
   ]
  }
 ],
 "metadata": {
  "kernelspec": {
   "display_name": "Python 3",
   "language": "python",
   "name": "python3"
  },
  "language_info": {
   "codemirror_mode": {
    "name": "ipython",
    "version": 3
   },
   "file_extension": ".py",
   "mimetype": "text/x-python",
   "name": "python",
   "nbconvert_exporter": "python",
   "pygments_lexer": "ipython3",
   "version": "3.8.5"
  }
 },
 "nbformat": 4,
 "nbformat_minor": 4
}
